{
  "nbformat": 4,
  "nbformat_minor": 0,
  "metadata": {
    "colab": {
      "name": "ISTM660 11/8/2019 ICE.ipynb",
      "provenance": [],
      "collapsed_sections": [],
      "include_colab_link": true
    },
    "kernelspec": {
      "name": "python3",
      "display_name": "Python 3"
    }
  },
  "cells": [
    {
      "cell_type": "markdown",
      "metadata": {
        "id": "view-in-github",
        "colab_type": "text"
      },
      "source": [
        "<a href=\"https://colab.research.google.com/github/xihengjing/xjing/blob/master/Text-mining%20classification%20model.ipynb\" target=\"_parent\"><img src=\"https://colab.research.google.com/assets/colab-badge.svg\" alt=\"Open In Colab\"/></a>"
      ]
    },
    {
      "cell_type": "markdown",
      "metadata": {
        "id": "MaAHGF2lbTQQ"
      },
      "source": [
        "# **Introduction**\n",
        "\n",
        "This project outlines a text-mining classification model using bag-of-words and logistic regression. We will attempt to understand the relationship between Amazon text reviews on earphones and review ratings. Unstructured data analysis will be conducted and there will be some experience with statistics and/or other classification experience.\n",
        "\n",
        "\n",
        "Data Source: [Kaggle](https://www.kaggle.com/purvank/uber-rider-reviews-dataset/data) by user *Shital Kat*\n"
      ]
    },
    {
      "cell_type": "markdown",
      "metadata": {
        "id": "s0kUMX2GbbjW"
      },
      "source": [
        "\n",
        "\n",
        "*   Preliminary Analysis\n",
        "*   Formatting / Converting Text\n",
        "*   Logistic Regression\n",
        "*   Testing / Conclusions\n",
        "\n"
      ]
    },
    {
      "cell_type": "markdown",
      "metadata": {
        "id": "hSSuXGbGbxFg"
      },
      "source": [
        "**Preliminary Analysis**\n",
        "\n",
        "Import Data\n",
        "First let’s bring in the data and visualize the dataframe:"
      ]
    },
    {
      "cell_type": "code",
      "metadata": {
        "id": "QQ338kOx3sMh",
        "cellView": "both"
      },
      "source": [
        "#@title Importing Modules\n",
        "#importing modules\n",
        "import pandas as pd\n",
        "import numpy as np\n",
        "import seaborn as sns\n",
        "%matplotlib inline\n",
        "import matplotlib.pyplot as plt\n",
        "import random"
      ],
      "execution_count": null,
      "outputs": []
    },
    {
      "cell_type": "code",
      "metadata": {
        "id": "Dx-JZrHgNDra",
        "cellView": "both",
        "outputId": "3e997b89-9069-413d-b6f4-f856d198d3fb",
        "colab": {
          "base_uri": "https://localhost:8080/",
          "height": 408
        }
      },
      "source": [
        "#@title Code to import file from colab files (Example 2)\n",
        "df = pd.read_csv('/content/AllProductReviews.csv')\n",
        "df.head(5)"
      ],
      "execution_count": null,
      "outputs": [
        {
          "output_type": "error",
          "ename": "FileNotFoundError",
          "evalue": "ignored",
          "traceback": [
            "\u001b[0;31m---------------------------------------------------------------------------\u001b[0m",
            "\u001b[0;31mFileNotFoundError\u001b[0m                         Traceback (most recent call last)",
            "\u001b[0;32m<ipython-input-2-22e127bcfdec>\u001b[0m in \u001b[0;36m<module>\u001b[0;34m()\u001b[0m\n\u001b[1;32m      1\u001b[0m \u001b[0;31m#@title Code to import file from colab files (Example 2)\u001b[0m\u001b[0;34m\u001b[0m\u001b[0;34m\u001b[0m\u001b[0;34m\u001b[0m\u001b[0m\n\u001b[0;32m----> 2\u001b[0;31m \u001b[0mdf\u001b[0m \u001b[0;34m=\u001b[0m \u001b[0mpd\u001b[0m\u001b[0;34m.\u001b[0m\u001b[0mread_csv\u001b[0m\u001b[0;34m(\u001b[0m\u001b[0;34m'/content/AllProductReviews.csv'\u001b[0m\u001b[0;34m)\u001b[0m\u001b[0;34m\u001b[0m\u001b[0;34m\u001b[0m\u001b[0m\n\u001b[0m\u001b[1;32m      3\u001b[0m \u001b[0mdf\u001b[0m\u001b[0;34m.\u001b[0m\u001b[0mhead\u001b[0m\u001b[0;34m(\u001b[0m\u001b[0;36m5\u001b[0m\u001b[0;34m)\u001b[0m\u001b[0;34m\u001b[0m\u001b[0;34m\u001b[0m\u001b[0m\n",
            "\u001b[0;32m/usr/local/lib/python3.6/dist-packages/pandas/io/parsers.py\u001b[0m in \u001b[0;36mread_csv\u001b[0;34m(filepath_or_buffer, sep, delimiter, header, names, index_col, usecols, squeeze, prefix, mangle_dupe_cols, dtype, engine, converters, true_values, false_values, skipinitialspace, skiprows, skipfooter, nrows, na_values, keep_default_na, na_filter, verbose, skip_blank_lines, parse_dates, infer_datetime_format, keep_date_col, date_parser, dayfirst, cache_dates, iterator, chunksize, compression, thousands, decimal, lineterminator, quotechar, quoting, doublequote, escapechar, comment, encoding, dialect, error_bad_lines, warn_bad_lines, delim_whitespace, low_memory, memory_map, float_precision)\u001b[0m\n\u001b[1;32m    684\u001b[0m     )\n\u001b[1;32m    685\u001b[0m \u001b[0;34m\u001b[0m\u001b[0m\n\u001b[0;32m--> 686\u001b[0;31m     \u001b[0;32mreturn\u001b[0m \u001b[0m_read\u001b[0m\u001b[0;34m(\u001b[0m\u001b[0mfilepath_or_buffer\u001b[0m\u001b[0;34m,\u001b[0m \u001b[0mkwds\u001b[0m\u001b[0;34m)\u001b[0m\u001b[0;34m\u001b[0m\u001b[0;34m\u001b[0m\u001b[0m\n\u001b[0m\u001b[1;32m    687\u001b[0m \u001b[0;34m\u001b[0m\u001b[0m\n\u001b[1;32m    688\u001b[0m \u001b[0;34m\u001b[0m\u001b[0m\n",
            "\u001b[0;32m/usr/local/lib/python3.6/dist-packages/pandas/io/parsers.py\u001b[0m in \u001b[0;36m_read\u001b[0;34m(filepath_or_buffer, kwds)\u001b[0m\n\u001b[1;32m    450\u001b[0m \u001b[0;34m\u001b[0m\u001b[0m\n\u001b[1;32m    451\u001b[0m     \u001b[0;31m# Create the parser.\u001b[0m\u001b[0;34m\u001b[0m\u001b[0;34m\u001b[0m\u001b[0;34m\u001b[0m\u001b[0m\n\u001b[0;32m--> 452\u001b[0;31m     \u001b[0mparser\u001b[0m \u001b[0;34m=\u001b[0m \u001b[0mTextFileReader\u001b[0m\u001b[0;34m(\u001b[0m\u001b[0mfp_or_buf\u001b[0m\u001b[0;34m,\u001b[0m \u001b[0;34m**\u001b[0m\u001b[0mkwds\u001b[0m\u001b[0;34m)\u001b[0m\u001b[0;34m\u001b[0m\u001b[0;34m\u001b[0m\u001b[0m\n\u001b[0m\u001b[1;32m    453\u001b[0m \u001b[0;34m\u001b[0m\u001b[0m\n\u001b[1;32m    454\u001b[0m     \u001b[0;32mif\u001b[0m \u001b[0mchunksize\u001b[0m \u001b[0;32mor\u001b[0m \u001b[0miterator\u001b[0m\u001b[0;34m:\u001b[0m\u001b[0;34m\u001b[0m\u001b[0;34m\u001b[0m\u001b[0m\n",
            "\u001b[0;32m/usr/local/lib/python3.6/dist-packages/pandas/io/parsers.py\u001b[0m in \u001b[0;36m__init__\u001b[0;34m(self, f, engine, **kwds)\u001b[0m\n\u001b[1;32m    934\u001b[0m             \u001b[0mself\u001b[0m\u001b[0;34m.\u001b[0m\u001b[0moptions\u001b[0m\u001b[0;34m[\u001b[0m\u001b[0;34m\"has_index_names\"\u001b[0m\u001b[0;34m]\u001b[0m \u001b[0;34m=\u001b[0m \u001b[0mkwds\u001b[0m\u001b[0;34m[\u001b[0m\u001b[0;34m\"has_index_names\"\u001b[0m\u001b[0;34m]\u001b[0m\u001b[0;34m\u001b[0m\u001b[0;34m\u001b[0m\u001b[0m\n\u001b[1;32m    935\u001b[0m \u001b[0;34m\u001b[0m\u001b[0m\n\u001b[0;32m--> 936\u001b[0;31m         \u001b[0mself\u001b[0m\u001b[0;34m.\u001b[0m\u001b[0m_make_engine\u001b[0m\u001b[0;34m(\u001b[0m\u001b[0mself\u001b[0m\u001b[0;34m.\u001b[0m\u001b[0mengine\u001b[0m\u001b[0;34m)\u001b[0m\u001b[0;34m\u001b[0m\u001b[0;34m\u001b[0m\u001b[0m\n\u001b[0m\u001b[1;32m    937\u001b[0m \u001b[0;34m\u001b[0m\u001b[0m\n\u001b[1;32m    938\u001b[0m     \u001b[0;32mdef\u001b[0m \u001b[0mclose\u001b[0m\u001b[0;34m(\u001b[0m\u001b[0mself\u001b[0m\u001b[0;34m)\u001b[0m\u001b[0;34m:\u001b[0m\u001b[0;34m\u001b[0m\u001b[0;34m\u001b[0m\u001b[0m\n",
            "\u001b[0;32m/usr/local/lib/python3.6/dist-packages/pandas/io/parsers.py\u001b[0m in \u001b[0;36m_make_engine\u001b[0;34m(self, engine)\u001b[0m\n\u001b[1;32m   1166\u001b[0m     \u001b[0;32mdef\u001b[0m \u001b[0m_make_engine\u001b[0m\u001b[0;34m(\u001b[0m\u001b[0mself\u001b[0m\u001b[0;34m,\u001b[0m \u001b[0mengine\u001b[0m\u001b[0;34m=\u001b[0m\u001b[0;34m\"c\"\u001b[0m\u001b[0;34m)\u001b[0m\u001b[0;34m:\u001b[0m\u001b[0;34m\u001b[0m\u001b[0;34m\u001b[0m\u001b[0m\n\u001b[1;32m   1167\u001b[0m         \u001b[0;32mif\u001b[0m \u001b[0mengine\u001b[0m \u001b[0;34m==\u001b[0m \u001b[0;34m\"c\"\u001b[0m\u001b[0;34m:\u001b[0m\u001b[0;34m\u001b[0m\u001b[0;34m\u001b[0m\u001b[0m\n\u001b[0;32m-> 1168\u001b[0;31m             \u001b[0mself\u001b[0m\u001b[0;34m.\u001b[0m\u001b[0m_engine\u001b[0m \u001b[0;34m=\u001b[0m \u001b[0mCParserWrapper\u001b[0m\u001b[0;34m(\u001b[0m\u001b[0mself\u001b[0m\u001b[0;34m.\u001b[0m\u001b[0mf\u001b[0m\u001b[0;34m,\u001b[0m \u001b[0;34m**\u001b[0m\u001b[0mself\u001b[0m\u001b[0;34m.\u001b[0m\u001b[0moptions\u001b[0m\u001b[0;34m)\u001b[0m\u001b[0;34m\u001b[0m\u001b[0;34m\u001b[0m\u001b[0m\n\u001b[0m\u001b[1;32m   1169\u001b[0m         \u001b[0;32melse\u001b[0m\u001b[0;34m:\u001b[0m\u001b[0;34m\u001b[0m\u001b[0;34m\u001b[0m\u001b[0m\n\u001b[1;32m   1170\u001b[0m             \u001b[0;32mif\u001b[0m \u001b[0mengine\u001b[0m \u001b[0;34m==\u001b[0m \u001b[0;34m\"python\"\u001b[0m\u001b[0;34m:\u001b[0m\u001b[0;34m\u001b[0m\u001b[0;34m\u001b[0m\u001b[0m\n",
            "\u001b[0;32m/usr/local/lib/python3.6/dist-packages/pandas/io/parsers.py\u001b[0m in \u001b[0;36m__init__\u001b[0;34m(self, src, **kwds)\u001b[0m\n\u001b[1;32m   1996\u001b[0m         \u001b[0mkwds\u001b[0m\u001b[0;34m[\u001b[0m\u001b[0;34m\"usecols\"\u001b[0m\u001b[0;34m]\u001b[0m \u001b[0;34m=\u001b[0m \u001b[0mself\u001b[0m\u001b[0;34m.\u001b[0m\u001b[0musecols\u001b[0m\u001b[0;34m\u001b[0m\u001b[0;34m\u001b[0m\u001b[0m\n\u001b[1;32m   1997\u001b[0m \u001b[0;34m\u001b[0m\u001b[0m\n\u001b[0;32m-> 1998\u001b[0;31m         \u001b[0mself\u001b[0m\u001b[0;34m.\u001b[0m\u001b[0m_reader\u001b[0m \u001b[0;34m=\u001b[0m \u001b[0mparsers\u001b[0m\u001b[0;34m.\u001b[0m\u001b[0mTextReader\u001b[0m\u001b[0;34m(\u001b[0m\u001b[0msrc\u001b[0m\u001b[0;34m,\u001b[0m \u001b[0;34m**\u001b[0m\u001b[0mkwds\u001b[0m\u001b[0;34m)\u001b[0m\u001b[0;34m\u001b[0m\u001b[0;34m\u001b[0m\u001b[0m\n\u001b[0m\u001b[1;32m   1999\u001b[0m         \u001b[0mself\u001b[0m\u001b[0;34m.\u001b[0m\u001b[0munnamed_cols\u001b[0m \u001b[0;34m=\u001b[0m \u001b[0mself\u001b[0m\u001b[0;34m.\u001b[0m\u001b[0m_reader\u001b[0m\u001b[0;34m.\u001b[0m\u001b[0munnamed_cols\u001b[0m\u001b[0;34m\u001b[0m\u001b[0;34m\u001b[0m\u001b[0m\n\u001b[1;32m   2000\u001b[0m \u001b[0;34m\u001b[0m\u001b[0m\n",
            "\u001b[0;32mpandas/_libs/parsers.pyx\u001b[0m in \u001b[0;36mpandas._libs.parsers.TextReader.__cinit__\u001b[0;34m()\u001b[0m\n",
            "\u001b[0;32mpandas/_libs/parsers.pyx\u001b[0m in \u001b[0;36mpandas._libs.parsers.TextReader._setup_parser_source\u001b[0;34m()\u001b[0m\n",
            "\u001b[0;31mFileNotFoundError\u001b[0m: [Errno 2] No such file or directory: '/content/AllProductReviews.csv'"
          ]
        }
      ]
    },
    {
      "cell_type": "code",
      "metadata": {
        "id": "53MHxS-4IRoz",
        "cellView": "both",
        "outputId": "0368b804-9b07-411b-e888-d7b497973148",
        "colab": {
          "base_uri": "https://localhost:8080/",
          "height": 204
        }
      },
      "source": [
        "#@title Load data\n",
        "url = 'https://raw.githubusercontent.com/xihengjing/xjing/master/AllProductReviews.csv'\n",
        "\n",
        "# Load data into a pandas dataframe\n",
        "df = pd.read_csv(url)\n",
        "df.head()"
      ],
      "execution_count": null,
      "outputs": [
        {
          "output_type": "execute_result",
          "data": {
            "text/html": [
              "<div>\n",
              "<style scoped>\n",
              "    .dataframe tbody tr th:only-of-type {\n",
              "        vertical-align: middle;\n",
              "    }\n",
              "\n",
              "    .dataframe tbody tr th {\n",
              "        vertical-align: top;\n",
              "    }\n",
              "\n",
              "    .dataframe thead th {\n",
              "        text-align: right;\n",
              "    }\n",
              "</style>\n",
              "<table border=\"1\" class=\"dataframe\">\n",
              "  <thead>\n",
              "    <tr style=\"text-align: right;\">\n",
              "      <th></th>\n",
              "      <th>ReviewTitle</th>\n",
              "      <th>ReviewBody</th>\n",
              "      <th>ReviewStar</th>\n",
              "      <th>Product</th>\n",
              "    </tr>\n",
              "  </thead>\n",
              "  <tbody>\n",
              "    <tr>\n",
              "      <th>0</th>\n",
              "      <td>Honest review of an edm music lover\\n</td>\n",
              "      <td>No doubt it has a great bass and to a great ex...</td>\n",
              "      <td>3</td>\n",
              "      <td>boAt Rockerz 255</td>\n",
              "    </tr>\n",
              "    <tr>\n",
              "      <th>1</th>\n",
              "      <td>Unreliable earphones with high cost\\n</td>\n",
              "      <td>This  earphones are unreliable, i bought it be...</td>\n",
              "      <td>1</td>\n",
              "      <td>boAt Rockerz 255</td>\n",
              "    </tr>\n",
              "    <tr>\n",
              "      <th>2</th>\n",
              "      <td>Really good and durable.\\n</td>\n",
              "      <td>i bought itfor 999,I purchased it second time,...</td>\n",
              "      <td>4</td>\n",
              "      <td>boAt Rockerz 255</td>\n",
              "    </tr>\n",
              "    <tr>\n",
              "      <th>3</th>\n",
              "      <td>stopped working in just 14 days\\n</td>\n",
              "      <td>Its sound quality is adorable. overall it was ...</td>\n",
              "      <td>1</td>\n",
              "      <td>boAt Rockerz 255</td>\n",
              "    </tr>\n",
              "    <tr>\n",
              "      <th>4</th>\n",
              "      <td>Just Awesome Wireless Headphone under 1000...😉\\n</td>\n",
              "      <td>Its Awesome... Good sound quality &amp; 8-9 hrs ba...</td>\n",
              "      <td>5</td>\n",
              "      <td>boAt Rockerz 255</td>\n",
              "    </tr>\n",
              "  </tbody>\n",
              "</table>\n",
              "</div>"
            ],
            "text/plain": [
              "                                        ReviewTitle  ...           Product\n",
              "0             Honest review of an edm music lover\\n  ...  boAt Rockerz 255\n",
              "1             Unreliable earphones with high cost\\n  ...  boAt Rockerz 255\n",
              "2                        Really good and durable.\\n  ...  boAt Rockerz 255\n",
              "3                 stopped working in just 14 days\\n  ...  boAt Rockerz 255\n",
              "4  Just Awesome Wireless Headphone under 1000...😉\\n  ...  boAt Rockerz 255\n",
              "\n",
              "[5 rows x 4 columns]"
            ]
          },
          "metadata": {
            "tags": []
          },
          "execution_count": 23
        }
      ]
    },
    {
      "cell_type": "code",
      "metadata": {
        "id": "e6fVRdi3NnRa",
        "cellView": "both",
        "outputId": "9d633845-98ec-42ad-e1b6-a231cdbf6f33",
        "colab": {
          "base_uri": "https://localhost:8080/",
          "height": 204
        }
      },
      "source": [
        "#@title Choosing apprpiate columns\n",
        "df2 = df[['ReviewBody', 'ReviewStar']] \n",
        "df = df2\n",
        "df.head()"
      ],
      "execution_count": null,
      "outputs": [
        {
          "output_type": "execute_result",
          "data": {
            "text/html": [
              "<div>\n",
              "<style scoped>\n",
              "    .dataframe tbody tr th:only-of-type {\n",
              "        vertical-align: middle;\n",
              "    }\n",
              "\n",
              "    .dataframe tbody tr th {\n",
              "        vertical-align: top;\n",
              "    }\n",
              "\n",
              "    .dataframe thead th {\n",
              "        text-align: right;\n",
              "    }\n",
              "</style>\n",
              "<table border=\"1\" class=\"dataframe\">\n",
              "  <thead>\n",
              "    <tr style=\"text-align: right;\">\n",
              "      <th></th>\n",
              "      <th>ReviewBody</th>\n",
              "      <th>ReviewStar</th>\n",
              "    </tr>\n",
              "  </thead>\n",
              "  <tbody>\n",
              "    <tr>\n",
              "      <th>0</th>\n",
              "      <td>No doubt it has a great bass and to a great ex...</td>\n",
              "      <td>3</td>\n",
              "    </tr>\n",
              "    <tr>\n",
              "      <th>1</th>\n",
              "      <td>This  earphones are unreliable, i bought it be...</td>\n",
              "      <td>1</td>\n",
              "    </tr>\n",
              "    <tr>\n",
              "      <th>2</th>\n",
              "      <td>i bought itfor 999,I purchased it second time,...</td>\n",
              "      <td>4</td>\n",
              "    </tr>\n",
              "    <tr>\n",
              "      <th>3</th>\n",
              "      <td>Its sound quality is adorable. overall it was ...</td>\n",
              "      <td>1</td>\n",
              "    </tr>\n",
              "    <tr>\n",
              "      <th>4</th>\n",
              "      <td>Its Awesome... Good sound quality &amp; 8-9 hrs ba...</td>\n",
              "      <td>5</td>\n",
              "    </tr>\n",
              "  </tbody>\n",
              "</table>\n",
              "</div>"
            ],
            "text/plain": [
              "                                          ReviewBody  ReviewStar\n",
              "0  No doubt it has a great bass and to a great ex...           3\n",
              "1  This  earphones are unreliable, i bought it be...           1\n",
              "2  i bought itfor 999,I purchased it second time,...           4\n",
              "3  Its sound quality is adorable. overall it was ...           1\n",
              "4  Its Awesome... Good sound quality & 8-9 hrs ba...           5"
            ]
          },
          "metadata": {
            "tags": []
          },
          "execution_count": 24
        }
      ]
    },
    {
      "cell_type": "markdown",
      "metadata": {
        "id": "4L9eyeg7cMnf"
      },
      "source": [
        "It’s a straightforward dataset. We have the \"ReviewBody” text column and the “ReviewStar” column (which ranges from 1 as the lowest rating and 5 as the highest). Users write these text reviews to describe their experience and the categorical 5 star rating summarizes it.\n",
        "\n",
        "**Basic Statistics**\n",
        "\n",
        "Let’s check the .describe() method to see how many instances we’re dealing with and other basic statistics:"
      ]
    },
    {
      "cell_type": "code",
      "metadata": {
        "id": "nMtDSQSK4Ic4",
        "outputId": "80e46c9f-4ae9-42d8-b511-661bdcbfb0fb",
        "colab": {
          "base_uri": "https://localhost:8080/",
          "height": 297
        }
      },
      "source": [
        "df.describe() "
      ],
      "execution_count": null,
      "outputs": [
        {
          "output_type": "execute_result",
          "data": {
            "text/html": [
              "<div>\n",
              "<style scoped>\n",
              "    .dataframe tbody tr th:only-of-type {\n",
              "        vertical-align: middle;\n",
              "    }\n",
              "\n",
              "    .dataframe tbody tr th {\n",
              "        vertical-align: top;\n",
              "    }\n",
              "\n",
              "    .dataframe thead th {\n",
              "        text-align: right;\n",
              "    }\n",
              "</style>\n",
              "<table border=\"1\" class=\"dataframe\">\n",
              "  <thead>\n",
              "    <tr style=\"text-align: right;\">\n",
              "      <th></th>\n",
              "      <th>ReviewStar</th>\n",
              "    </tr>\n",
              "  </thead>\n",
              "  <tbody>\n",
              "    <tr>\n",
              "      <th>count</th>\n",
              "      <td>14337.000000</td>\n",
              "    </tr>\n",
              "    <tr>\n",
              "      <th>mean</th>\n",
              "      <td>3.675874</td>\n",
              "    </tr>\n",
              "    <tr>\n",
              "      <th>std</th>\n",
              "      <td>1.503409</td>\n",
              "    </tr>\n",
              "    <tr>\n",
              "      <th>min</th>\n",
              "      <td>1.000000</td>\n",
              "    </tr>\n",
              "    <tr>\n",
              "      <th>25%</th>\n",
              "      <td>3.000000</td>\n",
              "    </tr>\n",
              "    <tr>\n",
              "      <th>50%</th>\n",
              "      <td>4.000000</td>\n",
              "    </tr>\n",
              "    <tr>\n",
              "      <th>75%</th>\n",
              "      <td>5.000000</td>\n",
              "    </tr>\n",
              "    <tr>\n",
              "      <th>max</th>\n",
              "      <td>5.000000</td>\n",
              "    </tr>\n",
              "  </tbody>\n",
              "</table>\n",
              "</div>"
            ],
            "text/plain": [
              "         ReviewStar\n",
              "count  14337.000000\n",
              "mean       3.675874\n",
              "std        1.503409\n",
              "min        1.000000\n",
              "25%        3.000000\n",
              "50%        4.000000\n",
              "75%        5.000000\n",
              "max        5.000000"
            ]
          },
          "metadata": {
            "tags": []
          },
          "execution_count": 26
        }
      ]
    },
    {
      "cell_type": "markdown",
      "metadata": {
        "id": "wRwX2Xbtcbk5"
      },
      "source": [
        "It appears the customers' response on this particular earphone is fairly well in this sample. The mean rating is 3.68, and the 25% mark is a 3 star review, meaning that 75% of the reviews are above 3. Also, the 75% mark of a 5 star rating means that we have at least 25% of ratings at 5 star. This shows that the data is skewed to the right. Hopefully we can gain some insight into this by building a model.\n",
        "\n",
        "**Purpose of Model**\n",
        "\n",
        "Having mentioned that, let’s reiterate the utility of the bag of words / logistic regression model we will build:\n",
        "\n",
        "\n",
        "*   We will be able to gauge the sentiment of future text reviews and categorize them into “Good” or “Bad” classes.\n",
        "*   We will be able to pinpoint specific words with a high impact on rating sentiment. This information could be an asset for the sellers and Amazon (if used for their entire internal dataset — not this small sample we have). For example, the word “rude” likely has a negative coefficient, pushing our classifier to label that review as bad. The word “great” likely has a positive coefficient, pushing our classifier to label that review as good. The goal is discovery. We don’t know what interesting words may appear to have an impact on sentiment, and that’s the fun part. Does the word “great” outweigh “horrible” and net positive or negative? Many questions like this will be answered with our model.\n",
        "\n"
      ]
    },
    {
      "cell_type": "markdown",
      "metadata": {
        "id": "c7qs1J85ctu0"
      },
      "source": [
        "**Null Check**\n",
        "\n",
        "Moving on, let’s check for null values in the dataset:"
      ]
    },
    {
      "cell_type": "code",
      "metadata": {
        "id": "WkO7fhKBc0sN",
        "outputId": "3efd7f10-62b5-4f9f-9541-c802e52231aa",
        "colab": {
          "base_uri": "https://localhost:8080/",
          "height": 68
        }
      },
      "source": [
        "#checking for nulls\n",
        "null_count = df.isnull().sum()\n",
        "null_count"
      ],
      "execution_count": null,
      "outputs": [
        {
          "output_type": "execute_result",
          "data": {
            "text/plain": [
              "ReviewBody    0\n",
              "ReviewStar    0\n",
              "dtype: int64"
            ]
          },
          "metadata": {
            "tags": []
          },
          "execution_count": 27
        }
      ]
    },
    {
      "cell_type": "markdown",
      "metadata": {
        "id": "5RwrCnoYcyVE"
      },
      "source": [
        "None this time. If we had some nulls, we would need to explore how to deal with those. Many good resources exist on this topic you can research."
      ]
    },
    {
      "cell_type": "markdown",
      "metadata": {
        "id": "2UU5VZOCc67q"
      },
      "source": [
        "**Distributions**\n",
        "\n",
        "Next, let’s visualize the rating distribution of our data:"
      ]
    },
    {
      "cell_type": "code",
      "metadata": {
        "id": "uXzNsYGNc_jC",
        "cellView": "both",
        "outputId": "9a1e3e44-d48b-40c0-c5e7-cf1a6608033e",
        "colab": {
          "base_uri": "https://localhost:8080/",
          "height": 295
        }
      },
      "source": [
        "#@title Visualization\n",
        "#seperating by groups\n",
        "groups = df.groupby('ReviewStar').count()\n",
        "Values = groups.ReviewBody\n",
        "colors = ['r', 'g', 'b', 'c', 'm']\n",
        "#making bar plot\n",
        "plt.bar([1,2,3,4,5], Values, color = colors)\n",
        "plt.title('Rating Distribution')\n",
        "plt.xlabel('Rating')\n",
        "plt.ylabel('Review Quantity')\n",
        "plt.show()"
      ],
      "execution_count": null,
      "outputs": [
        {
          "output_type": "display_data",
          "data": {
            "image/png": "[encoded data removed]",
            "text/plain": [
              "<Figure size 432x288 with 1 Axes>"
            ]
          },
          "metadata": {
            "tags": [],
            "needs_background": "light"
          }
        }
      ]
    },
    {
      "cell_type": "markdown",
      "metadata": {
        "id": "DoDGbLYHdPz_"
      },
      "source": [
        "**Logistic Regression**\n",
        "\n",
        "In statistics, the logistic model (or logit model) uses a logistics function to model a binary dependent variable. The dependent variable or the outcome would usually have binary results, either success or fail(1 or 0), or in other cases, like/dislike, good/bad, etc.. The logistics function will predict the rate or probability of the success event in multiple groups. For example, coronary issues would grow gradually with raising age, and hence the probability of coronary issues happening will grow from lower age groups to higher age groups. The probability of each group will add up to one. \n",
        "\n"
      ]
    },
    {
      "cell_type": "markdown",
      "metadata": {
        "id": "EuxGZyWOdEQL"
      },
      "source": [
        "**Setiment Rule**\n",
        "\n",
        "In order to perform the logistic regression later, we need to figure out a way to turn these 5 ratings categories into binary classes (1 and 0). Remember, logistic regression only handles “either/or” target variables. The best way to turn the star ratings into binary classes(in my opinion) is:\n",
        "\n",
        "Set ratings below 3 stars as class 0 (negative sentiment)\n",
        "\n",
        "Set ratings above 3 as class 1 (positive sentiment)\n",
        "\n",
        "Delete the 3 star ratings. 3 stars are neutral and offer no sentiment insight.\n",
        "\n",
        "So, let’s make a new column that deletes the 3 star ratings and creates a new column which classifies the other ratings into binary classes:"
      ]
    },
    {
      "cell_type": "code",
      "metadata": {
        "id": "KvFlCTCfdlVK",
        "cellView": "both",
        "outputId": "c300c7da-d0d2-4972-a511-b30af4356eb9",
        "colab": {
          "base_uri": "https://localhost:8080/",
          "height": 295
        }
      },
      "source": [
        "#@title Dropping data that will not help in out modeling\n",
        "#deleting all instances with ReviewStar = 3\n",
        "df = df[df.ReviewStar != 3]\n",
        "#separating by groups\n",
        "groups = df.groupby('ReviewStar').count()\n",
        "Values = groups.ReviewBody\n",
        "colors = ['r', 'g', 'b', 'c']\n",
        "#making bar plot\n",
        "plt.bar([1,2,4,5], Values, color= colors)\n",
        "plt.title('Rating Distribution')\n",
        "plt.xlabel('Rating')\n",
        "plt.ylabel('Review Quantity')\n",
        "plt.show()"
      ],
      "execution_count": null,
      "outputs": [
        {
          "output_type": "display_data",
          "data": {
            "image/png": "[encoded data removed]",
            "text/plain": [
              "<Figure size 432x288 with 1 Axes>"
            ]
          },
          "metadata": {
            "tags": [],
            "needs_background": "light"
          }
        }
      ]
    },
    {
      "cell_type": "code",
      "metadata": {
        "id": "qetWiQChdq_O",
        "cellView": "both",
        "outputId": "b7536944-2caf-4ea2-b272-3a888c764ff9",
        "colab": {
          "base_uri": "https://localhost:8080/",
          "height": 521
        }
      },
      "source": [
        "#@title Creating new binary_class column\n",
        "df['binary_class'] = np.where(df['ReviewStar'] > 3, 1, 0)\n",
        "df"
      ],
      "execution_count": null,
      "outputs": [
        {
          "output_type": "stream",
          "text": [
            "/usr/local/lib/python3.6/dist-packages/ipykernel_launcher.py:2: SettingWithCopyWarning: \n",
            "A value is trying to be set on a copy of a slice from a DataFrame.\n",
            "Try using .loc[row_indexer,col_indexer] = value instead\n",
            "\n",
            "See the caveats in the documentation: https://pandas.pydata.org/pandas-docs/stable/user_guide/indexing.html#returning-a-view-versus-a-copy\n",
            "  \n"
          ],
          "name": "stderr"
        },
        {
          "output_type": "execute_result",
          "data": {
            "text/html": [
              "<div>\n",
              "<style scoped>\n",
              "    .dataframe tbody tr th:only-of-type {\n",
              "        vertical-align: middle;\n",
              "    }\n",
              "\n",
              "    .dataframe tbody tr th {\n",
              "        vertical-align: top;\n",
              "    }\n",
              "\n",
              "    .dataframe thead th {\n",
              "        text-align: right;\n",
              "    }\n",
              "</style>\n",
              "<table border=\"1\" class=\"dataframe\">\n",
              "  <thead>\n",
              "    <tr style=\"text-align: right;\">\n",
              "      <th></th>\n",
              "      <th>ReviewBody</th>\n",
              "      <th>ReviewStar</th>\n",
              "      <th>binary_class</th>\n",
              "    </tr>\n",
              "  </thead>\n",
              "  <tbody>\n",
              "    <tr>\n",
              "      <th>1</th>\n",
              "      <td>This  earphones are unreliable, i bought it be...</td>\n",
              "      <td>1</td>\n",
              "      <td>0</td>\n",
              "    </tr>\n",
              "    <tr>\n",
              "      <th>2</th>\n",
              "      <td>i bought itfor 999,I purchased it second time,...</td>\n",
              "      <td>4</td>\n",
              "      <td>1</td>\n",
              "    </tr>\n",
              "    <tr>\n",
              "      <th>3</th>\n",
              "      <td>Its sound quality is adorable. overall it was ...</td>\n",
              "      <td>1</td>\n",
              "      <td>0</td>\n",
              "    </tr>\n",
              "    <tr>\n",
              "      <th>4</th>\n",
              "      <td>Its Awesome... Good sound quality &amp; 8-9 hrs ba...</td>\n",
              "      <td>5</td>\n",
              "      <td>1</td>\n",
              "    </tr>\n",
              "    <tr>\n",
              "      <th>5</th>\n",
              "      <td>After 11 days, the charging port isn't working...</td>\n",
              "      <td>1</td>\n",
              "      <td>0</td>\n",
              "    </tr>\n",
              "    <tr>\n",
              "      <th>...</th>\n",
              "      <td>...</td>\n",
              "      <td>...</td>\n",
              "      <td>...</td>\n",
              "    </tr>\n",
              "    <tr>\n",
              "      <th>14332</th>\n",
              "      <td>Good\\n</td>\n",
              "      <td>4</td>\n",
              "      <td>1</td>\n",
              "    </tr>\n",
              "    <tr>\n",
              "      <th>14333</th>\n",
              "      <td>An amazing product but a bit costly.\\n</td>\n",
              "      <td>5</td>\n",
              "      <td>1</td>\n",
              "    </tr>\n",
              "    <tr>\n",
              "      <th>14334</th>\n",
              "      <td>Sound\\n</td>\n",
              "      <td>1</td>\n",
              "      <td>0</td>\n",
              "    </tr>\n",
              "    <tr>\n",
              "      <th>14335</th>\n",
              "      <td>the sound is good battery life is good but the...</td>\n",
              "      <td>5</td>\n",
              "      <td>1</td>\n",
              "    </tr>\n",
              "    <tr>\n",
              "      <th>14336</th>\n",
              "      <td>M writing this review after using for almost 7...</td>\n",
              "      <td>1</td>\n",
              "      <td>0</td>\n",
              "    </tr>\n",
              "  </tbody>\n",
              "</table>\n",
              "<p>12834 rows × 3 columns</p>\n",
              "</div>"
            ],
            "text/plain": [
              "                                              ReviewBody  ...  binary_class\n",
              "1      This  earphones are unreliable, i bought it be...  ...             0\n",
              "2      i bought itfor 999,I purchased it second time,...  ...             1\n",
              "3      Its sound quality is adorable. overall it was ...  ...             0\n",
              "4      Its Awesome... Good sound quality & 8-9 hrs ba...  ...             1\n",
              "5      After 11 days, the charging port isn't working...  ...             0\n",
              "...                                                  ...  ...           ...\n",
              "14332                                             Good\\n  ...             1\n",
              "14333             An amazing product but a bit costly.\\n  ...             1\n",
              "14334                                            Sound\\n  ...             0\n",
              "14335  the sound is good battery life is good but the...  ...             1\n",
              "14336  M writing this review after using for almost 7...  ...             0\n",
              "\n",
              "[12834 rows x 3 columns]"
            ]
          },
          "metadata": {
            "tags": []
          },
          "execution_count": 31
        }
      ]
    },
    {
      "cell_type": "markdown",
      "metadata": {
        "id": "6SLmxjwbdxKp"
      },
      "source": [
        "# **Formatting / Converting Text**\n",
        "**Train/Test Split**\n",
        "\n",
        "The first step in this process is separating our data into training and testing sets. We will create our model from the training data and save some instances for testing purposes later. We’re using sklearn to shuffle and split. Without messing with the parameters, it should split our data into 75% training and 25% testing.\n",
        "\n",
        "By calling X_train.shape, we can check this. Further, let’s print a random review to verify it worked and to remind ourselves what we’re working with."
      ]
    },
    {
      "cell_type": "code",
      "metadata": {
        "id": "fXc6-FtPd5Xm",
        "cellView": "both",
        "outputId": "e836dde8-a1b2-4ecc-f3e8-f2335415686e",
        "colab": {
          "base_uri": "https://localhost:8080/",
          "height": 119
        }
      },
      "source": [
        "#@title Splitting into train and test\n",
        "from sklearn.model_selection import train_test_split\n",
        "X_train, X_test, y_train, y_test = train_test_split(df['ReviewBody'], df['binary_class'], random_state = 0)\n",
        "#setting random number between 1 and 1000\n",
        "number = random.randint(1,1000)\n",
        "#printing random training text and X_train shape\n",
        "print ('Random Review:')\n",
        "print(' ')\n",
        "print(X_train[number])\n",
        "print(' ')\n",
        "print('X_train shape: ' + str(X_train.shape))"
      ],
      "execution_count": null,
      "outputs": [
        {
          "output_type": "stream",
          "text": [
            "Random Review:\n",
            " \n",
            "Sound quality is good phone reception quality is also good but am unable to play pubg using this because of it take 2sec time to receive sound from mobile while playing pubg\n",
            "\n",
            " \n",
            "X_train shape: (9625,)\n"
          ],
          "name": "stdout"
        }
      ]
    },
    {
      "cell_type": "markdown",
      "metadata": {
        "id": "hE6ZWO4NeLbG"
      },
      "source": [
        "**Turning words into numbers**\n",
        "\n",
        "Now comes the exciting part, translating our text data into numerical features. In order to run a regression though this data later, we need to have a feature for every word in our sample. Essentially, we will be translating each word to be assigned as a number and then counting the frequency of these word/numbers used per instance in matrices. The process of doing this is called **“Bag-of-words”**. It’s important to note that the order of words doesn’t matter, bag-of-words only counts the frequency per instance of words used. To start, we will use the Sklearn CountVectorizer"
      ]
    },
    {
      "cell_type": "code",
      "metadata": {
        "id": "4wDccJ7qeHV-",
        "cellView": "both",
        "outputId": "483b6002-91ad-43c7-cc83-cf6e0d09952c",
        "colab": {
          "base_uri": "https://localhost:8080/",
          "height": 34
        }
      },
      "source": [
        "#@title Turning words into numbers\n",
        "#importing countvectorizer\n",
        "from sklearn.feature_extraction.text import CountVectorizer\n",
        "#creating variable which assigns X_train to numbers\n",
        "vect = CountVectorizer().fit(X_train)\n",
        "#translates numbers back to text\n",
        "vect.get_feature_names()[1:10]"
      ],
      "execution_count": null,
      "outputs": [
        {
          "output_type": "execute_result",
          "data": {
            "text/plain": [
              "['000', '001', '00bt', '00g', '02143121', '03', '04', '05', '06']"
            ]
          },
          "metadata": {
            "tags": []
          },
          "execution_count": 37
        }
      ]
    },
    {
      "cell_type": "markdown",
      "metadata": {
        "id": "LTtdlHNReujC"
      },
      "source": [
        "We can see using the len(vect.get_feature_names()) method, there are a total of 8,612 words in all the reviews:"
      ]
    },
    {
      "cell_type": "code",
      "metadata": {
        "id": "JwStGotWev9X",
        "outputId": "2f57c202-f55d-4bf7-b5a5-462dab3ee225",
        "colab": {
          "base_uri": "https://localhost:8080/",
          "height": 34
        }
      },
      "source": [
        "#length of total words\n",
        "len(vect.get_feature_names())"
      ],
      "execution_count": null,
      "outputs": [
        {
          "output_type": "execute_result",
          "data": {
            "text/plain": [
              "8612"
            ]
          },
          "metadata": {
            "tags": []
          },
          "execution_count": 13
        }
      ]
    },
    {
      "cell_type": "markdown",
      "metadata": {
        "id": "4_fZOkoee1gT"
      },
      "source": [
        "Now, let’s transform our X_train data into a matrix which contains the documents (instances) as rows and the count of new features (8,612) as columns. For example, our first word (0) as seen above is “000”. That will be the first column in the matrix. Whichever reviews contain '000' will tally up how many times it was used and add it to that column. "
      ]
    },
    {
      "cell_type": "code",
      "metadata": {
        "id": "l6XlkgdEe2-I",
        "cellView": "both",
        "outputId": "72e893b7-0e12-40bf-93d8-af3753055b9e",
        "colab": {
          "base_uri": "https://localhost:8080/",
          "height": 136
        }
      },
      "source": [
        "#@title Creating matrix array for logistic regression\n",
        "X_train_vectorized = vect.transform(X_train)\n",
        "print (X_train_vectorized.toarray())"
      ],
      "execution_count": null,
      "outputs": [
        {
          "output_type": "stream",
          "text": [
            "[[0 0 0 ... 0 0 0]\n",
            " [0 0 0 ... 0 0 0]\n",
            " [0 0 0 ... 0 0 0]\n",
            " ...\n",
            " [0 0 0 ... 0 0 0]\n",
            " [0 0 0 ... 0 0 0]\n",
            " [0 0 0 ... 0 0 0]]\n"
          ],
          "name": "stdout"
        }
      ]
    },
    {
      "cell_type": "markdown",
      "metadata": {
        "id": "l5NWdarpe542"
      },
      "source": [
        "Because there are so many words and most reviews only have a small portion of them, most of the numbers in this array will be 0."
      ]
    },
    {
      "cell_type": "markdown",
      "metadata": {
        "id": "xcAsF3QgfAv5"
      },
      "source": [
        "**Logistic Regression**\n",
        "\n",
        "**Building Model**\n",
        "\n",
        "We finally made it to the regression.\n",
        "Again, we will be using sklearn to perform this model:"
      ]
    },
    {
      "cell_type": "code",
      "metadata": {
        "id": "IKdwDv8Ye9wB",
        "cellView": "both",
        "outputId": "d7bed3df-577a-4099-89fc-10ec5f114748",
        "colab": {
          "base_uri": "https://localhost:8080/",
          "height": 238
        }
      },
      "source": [
        "#@title Creating Logistic Regression\n",
        "from sklearn.linear_model import LogisticRegression\n",
        "model = LogisticRegression()\n",
        "model.fit(X_train_vectorized, y_train)"
      ],
      "execution_count": null,
      "outputs": [
        {
          "output_type": "stream",
          "text": [
            "/usr/local/lib/python3.6/dist-packages/sklearn/linear_model/_logistic.py:940: ConvergenceWarning: lbfgs failed to converge (status=1):\n",
            "STOP: TOTAL NO. of ITERATIONS REACHED LIMIT.\n",
            "\n",
            "Increase the number of iterations (max_iter) or scale the data as shown in:\n",
            "    https://scikit-learn.org/stable/modules/preprocessing.html\n",
            "Please also refer to the documentation for alternative solver options:\n",
            "    https://scikit-learn.org/stable/modules/linear_model.html#logistic-regression\n",
            "  extra_warning_msg=_LOGISTIC_SOLVER_CONVERGENCE_MSG)\n"
          ],
          "name": "stderr"
        },
        {
          "output_type": "execute_result",
          "data": {
            "text/plain": [
              "LogisticRegression(C=1.0, class_weight=None, dual=False, fit_intercept=True,\n",
              "                   intercept_scaling=1, l1_ratio=None, max_iter=100,\n",
              "                   multi_class='auto', n_jobs=None, penalty='l2',\n",
              "                   random_state=None, solver='lbfgs', tol=0.0001, verbose=0,\n",
              "                   warm_start=False)"
            ]
          },
          "metadata": {
            "tags": []
          },
          "execution_count": 15
        }
      ]
    },
    {
      "cell_type": "markdown",
      "metadata": {
        "id": "A1M9a0SZfNju"
      },
      "source": [
        "Now, we will calculate the AUC to see how well it classifies the test data.\n",
        "\n",
        "AUC (Area Under The Curve) ROC (Receiver Operating Characteristics)\n",
        "\n",
        "AUC - ROC curve is a performance measurement for classification problem at various thresholds settings. ROC is a probability curve and AUC represents degree or measure of separability. It tells how much model is capable of distinguishing between classes. Higher the AUC, better the model is at predicting 0s as 0s and 1s as 1s. By analogy, Higher the AUC, better the model is at distinguishing between good and bad reviews."
      ]
    },
    {
      "cell_type": "code",
      "metadata": {
        "id": "TUciFHhOfOob",
        "cellView": "both",
        "outputId": "781f46ae-a32f-4dc1-cf54-35f1d6dcd10b",
        "colab": {
          "base_uri": "https://localhost:8080/",
          "height": 34
        }
      },
      "source": [
        "#@title Calculating AUC\n",
        "from sklearn.metrics import roc_auc_score\n",
        "predictions = model.predict(vect.transform(X_test))\n",
        "print('AUC: ', roc_auc_score(y_test, predictions))"
      ],
      "execution_count": null,
      "outputs": [
        {
          "output_type": "stream",
          "text": [
            "AUC:  0.8575261440051657\n"
          ],
          "name": "stdout"
        }
      ]
    },
    {
      "cell_type": "markdown",
      "metadata": {
        "id": "6x4DQR1RgB8w"
      },
      "source": [
        "This is good. A rough way of understanding this metric is to say we have 86% correctly classified instances."
      ]
    },
    {
      "cell_type": "markdown",
      "metadata": {
        "id": "_Gr04xWLgF38"
      },
      "source": [
        "**Testing / Conclusions**\n",
        "\n",
        "**Positive and Negative Words**\n",
        "\n",
        "Let’s delve into which words have the highest impact on class separation. Here we are translating our numbers back into words, getting the coefficients outputted by the regression, adding them both into a dataframe, and sorting them by their coefficient."
      ]
    },
    {
      "cell_type": "code",
      "metadata": {
        "id": "7eH-RbgXgDOb",
        "outputId": "4318e3c1-9d55-4836-c36c-0133cbbd00b4",
        "colab": {
          "base_uri": "https://localhost:8080/",
          "height": 419
        }
      },
      "source": [
        "#creating array variable of all the words\n",
        "feature_names = np.array(vect.get_feature_names())\n",
        "#creating array of all the regression coefficients per word\n",
        "coef_index = model.coef_[0]\n",
        "#creating df with both arrays in it\n",
        "df = pd.DataFrame({'Word':feature_names, 'Coef': coef_index})\n",
        "#sorting by coefficient\n",
        "df.sort_values('Coef')"
      ],
      "execution_count": null,
      "outputs": [
        {
          "output_type": "execute_result",
          "data": {
            "text/html": [
              "<div>\n",
              "<style scoped>\n",
              "    .dataframe tbody tr th:only-of-type {\n",
              "        vertical-align: middle;\n",
              "    }\n",
              "\n",
              "    .dataframe tbody tr th {\n",
              "        vertical-align: top;\n",
              "    }\n",
              "\n",
              "    .dataframe thead th {\n",
              "        text-align: right;\n",
              "    }\n",
              "</style>\n",
              "<table border=\"1\" class=\"dataframe\">\n",
              "  <thead>\n",
              "    <tr style=\"text-align: right;\">\n",
              "      <th></th>\n",
              "      <th>Word</th>\n",
              "      <th>Coef</th>\n",
              "    </tr>\n",
              "  </thead>\n",
              "  <tbody>\n",
              "    <tr>\n",
              "      <th>8473</th>\n",
              "      <td>worst</td>\n",
              "      <td>-3.065365</td>\n",
              "    </tr>\n",
              "    <tr>\n",
              "      <th>8269</th>\n",
              "      <td>waste</td>\n",
              "      <td>-2.451746</td>\n",
              "    </tr>\n",
              "    <tr>\n",
              "      <th>5766</th>\n",
              "      <td>poor</td>\n",
              "      <td>-2.429334</td>\n",
              "    </tr>\n",
              "    <tr>\n",
              "      <th>5550</th>\n",
              "      <td>pathetic</td>\n",
              "      <td>-2.329705</td>\n",
              "    </tr>\n",
              "    <tr>\n",
              "      <th>7258</th>\n",
              "      <td>stopped</td>\n",
              "      <td>-2.190887</td>\n",
              "    </tr>\n",
              "    <tr>\n",
              "      <th>...</th>\n",
              "      <td>...</td>\n",
              "      <td>...</td>\n",
              "    </tr>\n",
              "    <tr>\n",
              "      <th>4656</th>\n",
              "      <td>love</td>\n",
              "      <td>2.047238</td>\n",
              "    </tr>\n",
              "    <tr>\n",
              "      <th>5177</th>\n",
              "      <td>nice</td>\n",
              "      <td>2.183999</td>\n",
              "    </tr>\n",
              "    <tr>\n",
              "      <th>1252</th>\n",
              "      <td>best</td>\n",
              "      <td>2.410673</td>\n",
              "    </tr>\n",
              "    <tr>\n",
              "      <th>2994</th>\n",
              "      <td>excellent</td>\n",
              "      <td>2.603525</td>\n",
              "    </tr>\n",
              "    <tr>\n",
              "      <th>985</th>\n",
              "      <td>awesome</td>\n",
              "      <td>3.081720</td>\n",
              "    </tr>\n",
              "  </tbody>\n",
              "</table>\n",
              "<p>8612 rows × 2 columns</p>\n",
              "</div>"
            ],
            "text/plain": [
              "           Word      Coef\n",
              "8473      worst -3.065365\n",
              "8269      waste -2.451746\n",
              "5766       poor -2.429334\n",
              "5550   pathetic -2.329705\n",
              "7258    stopped -2.190887\n",
              "...         ...       ...\n",
              "4656       love  2.047238\n",
              "5177       nice  2.183999\n",
              "1252       best  2.410673\n",
              "2994  excellent  2.603525\n",
              "985     awesome  3.081720\n",
              "\n",
              "[8612 rows x 2 columns]"
            ]
          },
          "metadata": {
            "tags": []
          },
          "execution_count": 17
        }
      ]
    },
    {
      "cell_type": "markdown",
      "metadata": {
        "id": "SJ4QPaSzgWwy"
      },
      "source": [
        "**Negative Sentiment:**\n",
        "\n",
        "'worst' is the most negatively correlated word. The rest of the 4 words also make sense as they all concey negative emotion toward the product"
      ]
    },
    {
      "cell_type": "markdown",
      "metadata": {
        "id": "A1DvNjOCge3N"
      },
      "source": [
        "**Positive Sentiment:**\n",
        "\n",
        "As you move down the dataframe, the words become more positively correlated.\n",
        "\n",
        "'awesome' is the highest, it has relatively the same weight as 'worst'.\n",
        "\n",
        "The rest of the positively correlated words are intuitively showing positive emotion toward the product.\n"
      ]
    },
    {
      "cell_type": "markdown",
      "metadata": {
        "id": "VK4aZOplgoQP"
      },
      "source": [
        "**Testing custom reviews**\n",
        "\n",
        "Lastly, we can experiment and test our own custom reviews. In bold below are the inputs and beneath that are the respective outputs (1 = positive; 0 = negative). The reason the first one came out as positive might be that the coefficient correlated with 'great' is higher than that correlated with 'abandoned' and hence a positive 1 is returned. The rest of the classification seem to be accurate except for the 6th one."
      ]
    },
    {
      "cell_type": "code",
      "metadata": {
        "id": "zx38ABNCguOq",
        "outputId": "8d267180-457c-45e5-d182-88431a515875",
        "colab": {
          "base_uri": "https://localhost:8080/",
          "height": 187
        }
      },
      "source": [
        "print(model.predict(vect.transform(['abandoned great'])))\n",
        "print(model.predict(vect.transform(['Who doesn’t love a clean car? If your driver takes great care of theirs, go ahead and say thanks.'])))\n",
        "print(model.predict(vect.transform(['great she the best'])))\n",
        "print(model.predict(vect.transform(['cool, safe, fun'])))\n",
        "print(model.predict(vect.transform(['charged slow horrible'])))\n",
        "print(model.predict(vect.transform(['it was as average as a trip could be'])))\n",
        "print(model.predict(vect.transform(['my family felt safe we got to our destination with ease'])))\n",
        "print(model.predict(vect.transform(['i got to my destination quickly and affordably i had a smile on my face from start to finish'])))\n",
        "print(model.predict(vect.transform(['hard, bad, cool'])))\n",
        "print(model.predict(vect.transform(['000'])))"
      ],
      "execution_count": null,
      "outputs": [
        {
          "output_type": "stream",
          "text": [
            "[1]\n",
            "[1]\n",
            "[1]\n",
            "[1]\n",
            "[0]\n",
            "[1]\n",
            "[1]\n",
            "[1]\n",
            "[0]\n",
            "[1]\n"
          ],
          "name": "stdout"
        }
      ]
    },
    {
      "cell_type": "code",
      "metadata": {
        "id": "0h7ZlyoABMCA",
        "outputId": "08f647a9-1a31-4965-cffe-52d10c53425f",
        "colab": {
          "base_uri": "https://localhost:8080/",
          "height": 34
        }
      },
      "source": [
        "print(model.predict(vect.transform([\"I bought this phone and it came in its usual packaging but not factory sealed. Just a yellow sticker. During setup, everything was in Spanish and I switched it to English and followed through with the setup. Even after setup, many apps were in Spanish. I put my Straight Talk SIM card in and nothing. I couldn't text, call, browse, etc. I'm pretty sure I was sent an International phone. I also kept getting a message that said Open channel for BIP. I had no issues with my Galaxy S9 Plus. For $999, you'd think they'd sent the right product. It's a shame because the phone I ordered was beautiful but useless.\"])))"
      ],
      "execution_count": null,
      "outputs": [
        {
          "output_type": "stream",
          "text": [
            "[0]\n"
          ],
          "name": "stdout"
        }
      ]
    },
    {
      "cell_type": "markdown",
      "metadata": {
        "id": "5jNJfIzdUHAD"
      },
      "source": [
        "Learning - The fit of the model depends on the quality of the dataset we obtain. The better the quality of the data, the more accurate the model's classification will be."
      ]
    }
  ]
}